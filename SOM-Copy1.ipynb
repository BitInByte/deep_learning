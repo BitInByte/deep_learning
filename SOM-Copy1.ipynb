{
 "cells": [
  {
   "cell_type": "markdown",
   "metadata": {
    "colab_type": "text",
    "id": "t9oX7AL3nyLm"
   },
   "source": [
    "#Self Organizing Map"
   ]
  },
  {
   "cell_type": "markdown",
   "metadata": {
    "colab_type": "text",
    "id": "r9maNhdd65pB"
   },
   "source": [
    "##Install MiniSom Package"
   ]
  },
  {
   "cell_type": "code",
   "execution_count": 0,
   "metadata": {
    "colab": {
     "base_uri": "https://localhost:8080/",
     "height": 34
    },
    "colab_type": "code",
    "id": "1KB28WUso0Bj",
    "outputId": "e8fb3cdd-73e2-49c2-9976-25be1b37e9e6"
   },
   "outputs": [
    {
     "name": "stdout",
     "output_type": "stream",
     "text": [
      "Requirement already satisfied: MiniSom in /usr/local/lib/python3.6/dist-packages (2.2.5)\n"
     ]
    }
   ],
   "source": [
    "!pip install MiniSom"
   ]
  },
  {
   "cell_type": "markdown",
   "metadata": {
    "colab_type": "text",
    "id": "6AX0Y23PnyOI"
   },
   "source": [
    "### Importing the libraries\n"
   ]
  },
  {
   "cell_type": "code",
   "execution_count": 1,
   "metadata": {},
   "outputs": [],
   "source": [
    "import numpy as np\n",
    "import matplotlib.pyplot as plt\n",
    "import pandas as pd"
   ]
  },
  {
   "cell_type": "markdown",
   "metadata": {
    "colab_type": "text",
    "id": "SCl7ERn_n539"
   },
   "source": [
    "## Importing the dataset"
   ]
  },
  {
   "cell_type": "code",
   "execution_count": 2,
   "metadata": {},
   "outputs": [],
   "source": [
    "dataset = pd.read_csv('Credit_Card_Applications.csv')"
   ]
  },
  {
   "cell_type": "code",
   "execution_count": 4,
   "metadata": {
    "scrolled": true
   },
   "outputs": [
    {
     "name": "stdout",
     "output_type": "stream",
     "text": [
      "     CustomerID  A1     A2      A3  A4  A5  A6     A7  A8  A9  A10  A11  A12  \\\n",
      "0      15776156   1  22.08  11.460   2   4   4  1.585   0   0    0    1    2   \n",
      "1      15739548   0  22.67   7.000   2   8   4  0.165   0   0    0    0    2   \n",
      "2      15662854   0  29.58   1.750   1   4   4  1.250   0   0    0    1    2   \n",
      "3      15687688   0  21.67  11.500   1   5   3  0.000   1   1   11    1    2   \n",
      "4      15715750   1  20.17   8.170   2   6   4  1.960   1   1   14    0    2   \n",
      "..          ...  ..    ...     ...  ..  ..  ..    ...  ..  ..  ...  ...  ...   \n",
      "685    15808223   1  31.57  10.500   2  14   4  6.500   1   0    0    0    2   \n",
      "686    15769980   1  20.67   0.415   2   8   4  0.125   0   0    0    0    2   \n",
      "687    15675450   0  18.83   9.540   2   6   4  0.085   1   0    0    0    2   \n",
      "688    15776494   0  27.42  14.500   2  14   8  3.085   1   1    1    0    2   \n",
      "689    15592412   1  41.00   0.040   2  10   4  0.040   0   1    1    0    1   \n",
      "\n",
      "     A13   A14  Class  \n",
      "0    100  1213      0  \n",
      "1    160     1      0  \n",
      "2    280     1      0  \n",
      "3      0     1      1  \n",
      "4     60   159      1  \n",
      "..   ...   ...    ...  \n",
      "685    0     1      1  \n",
      "686    0    45      0  \n",
      "687  100     1      1  \n",
      "688  120    12      1  \n",
      "689  560     1      1  \n",
      "\n",
      "[690 rows x 16 columns]\n"
     ]
    }
   ],
   "source": [
    "print(dataset)"
   ]
  },
  {
   "cell_type": "code",
   "execution_count": 5,
   "metadata": {
    "scrolled": true
   },
   "outputs": [
    {
     "name": "stdout",
     "output_type": "stream",
     "text": [
      "[[1.5776156e+07 1.0000000e+00 2.2080000e+01 ... 2.0000000e+00\n",
      "  1.0000000e+02 1.2130000e+03]\n",
      " [1.5739548e+07 0.0000000e+00 2.2670000e+01 ... 2.0000000e+00\n",
      "  1.6000000e+02 1.0000000e+00]\n",
      " [1.5662854e+07 0.0000000e+00 2.9580000e+01 ... 2.0000000e+00\n",
      "  2.8000000e+02 1.0000000e+00]\n",
      " ...\n",
      " [1.5675450e+07 0.0000000e+00 1.8830000e+01 ... 2.0000000e+00\n",
      "  1.0000000e+02 1.0000000e+00]\n",
      " [1.5776494e+07 0.0000000e+00 2.7420000e+01 ... 2.0000000e+00\n",
      "  1.2000000e+02 1.2000000e+01]\n",
      " [1.5592412e+07 1.0000000e+00 4.1000000e+01 ... 1.0000000e+00\n",
      "  5.6000000e+02 1.0000000e+00]]\n",
      "[0 0 0 1 1 1 0 1 0 0 1 1 0 1 0 1 1 1 0 1 0 0 0 0 0 1 0 1 1 1 1 0 0 1 0 0 1\n",
      " 1 1 1 1 0 1 0 0 1 0 1 0 1 0 0 0 0 0 1 1 0 1 1 0 0 1 0 1 1 0 0 0 1 0 0 0 1\n",
      " 1 0 0 0 0 1 1 0 0 0 0 1 0 1 1 0 0 0 0 1 0 1 0 0 0 1 0 1 1 1 0 1 1 0 1 0 0\n",
      " 0 0 1 0 1 1 1 1 1 1 0 0 1 1 0 1 0 1 1 1 0 0 0 0 0 0 1 1 1 0 0 0 1 0 1 1 0\n",
      " 0 1 1 0 0 0 1 1 1 0 1 0 0 0 1 1 0 0 0 1 0 0 0 1 0 0 1 0 0 0 1 1 0 0 1 1 1\n",
      " 0 0 0 0 0 0 1 0 0 0 1 1 0 0 0 1 0 1 0 1 1 0 0 0 0 1 1 0 0 0 1 0 0 0 1 1 0\n",
      " 1 0 0 0 0 1 1 1 1 0 0 1 1 1 0 0 0 1 1 1 1 0 0 0 0 1 1 1 0 0 1 0 1 1 1 1 0\n",
      " 0 0 1 0 1 1 0 0 1 0 0 0 1 0 1 1 0 0 0 1 1 0 0 0 0 0 1 1 1 0 0 0 0 1 1 1 0\n",
      " 0 0 1 0 1 0 0 0 0 1 0 1 0 0 0 0 0 1 1 0 0 1 0 1 1 1 1 1 1 1 0 0 0 0 1 1 1\n",
      " 0 0 0 1 0 1 0 0 0 1 1 1 1 1 1 1 0 1 0 1 0 0 0 0 0 1 0 1 1 0 0 0 0 0 1 0 1\n",
      " 1 0 0 0 1 1 1 0 0 1 1 0 0 0 1 1 0 1 1 1 1 0 0 1 1 0 0 0 0 0 0 1 0 0 0 1 1\n",
      " 0 1 0 0 0 1 1 1 0 0 1 0 1 1 1 0 1 0 0 1 0 0 0 1 0 0 1 0 1 0 1 1 0 1 0 0 1\n",
      " 0 1 1 0 0 0 0 0 1 1 0 0 1 1 0 1 0 1 0 1 0 1 1 0 1 0 1 1 1 0 0 0 0 0 1 0 1\n",
      " 0 0 0 1 1 1 1 1 0 1 1 0 0 0 1 1 1 1 1 1 0 1 1 1 1 0 0 0 0 0 0 0 1 0 0 1 1\n",
      " 1 0 1 0 0 1 1 0 1 0 0 0 0 0 0 1 0 1 0 1 1 1 0 0 1 0 0 0 0 0 0 0 1 1 0 0 0\n",
      " 0 0 1 0 1 0 1 0 0 1 1 1 0 0 0 0 0 1 0 1 1 0 0 0 0 0 1 1 1 0 1 0 1 1 0 0 1\n",
      " 0 1 0 0 1 1 0 1 0 1 1 1 1 0 0 1 0 1 1 0 1 0 1 1 0 0 0 1 0 1 1 0 1 0 0 0 0\n",
      " 0 1 0 1 0 0 0 0 0 0 1 0 1 1 0 0 0 0 0 0 1 1 0 0 1 0 0 1 0 0 1 1 0 1 1 0 0\n",
      " 0 0 0 0 1 1 0 1 1 0 0 0 0 1 0 0 1 0 1 1 0 1 1 1]\n"
     ]
    }
   ],
   "source": [
    "X = dataset.iloc[:, :-1].values\n",
    "y = dataset.iloc[:, -1].values\n",
    "\n",
    "print(X)\n",
    "print(y)"
   ]
  },
  {
   "cell_type": "markdown",
   "metadata": {
    "colab_type": "text",
    "id": "fYHJ0dd6n-d4"
   },
   "source": [
    "## Feature Scaling\n"
   ]
  },
  {
   "cell_type": "code",
   "execution_count": 6,
   "metadata": {},
   "outputs": [],
   "source": [
    "from sklearn.preprocessing import MinMaxScaler"
   ]
  },
  {
   "cell_type": "code",
   "execution_count": 7,
   "metadata": {},
   "outputs": [
    {
     "name": "stdout",
     "output_type": "stream",
     "text": [
      "[[8.42681467e-01 1.00000000e+00 1.25263158e-01 ... 5.00000000e-01\n",
      "  5.00000000e-02 1.21200000e-02]\n",
      " [6.96090562e-01 0.00000000e+00 1.34135338e-01 ... 5.00000000e-01\n",
      "  8.00000000e-02 0.00000000e+00]\n",
      " [3.88981656e-01 0.00000000e+00 2.38045113e-01 ... 5.00000000e-01\n",
      "  1.40000000e-01 0.00000000e+00]\n",
      " ...\n",
      " [4.39420332e-01 0.00000000e+00 7.63909774e-02 ... 5.00000000e-01\n",
      "  5.00000000e-02 0.00000000e+00]\n",
      " [8.44034934e-01 0.00000000e+00 2.05563910e-01 ... 5.00000000e-01\n",
      "  6.00000000e-02 1.10000000e-04]\n",
      " [1.06907888e-01 1.00000000e+00 4.09774436e-01 ... 0.00000000e+00\n",
      "  2.80000000e-01 0.00000000e+00]]\n"
     ]
    }
   ],
   "source": [
    "sc = MinMaxScaler(feature_range = (0, 1))\n",
    "\n",
    "X = sc.fit_transform(X)\n",
    "print(X)"
   ]
  },
  {
   "cell_type": "markdown",
   "metadata": {
    "colab_type": "text",
    "id": "aPp-7wfNoAhR"
   },
   "source": [
    "##Training the SOM\n"
   ]
  },
  {
   "cell_type": "code",
   "execution_count": 8,
   "metadata": {},
   "outputs": [],
   "source": [
    "from minisom import MiniSom"
   ]
  },
  {
   "cell_type": "code",
   "execution_count": 9,
   "metadata": {},
   "outputs": [],
   "source": [
    "som = MiniSom(\n",
    "    x = 10,\n",
    "    y = 10,\n",
    "    input_len = 15,\n",
    "    sigma = 1.0,\n",
    "    learning_rate = 0.5\n",
    ")"
   ]
  },
  {
   "cell_type": "code",
   "execution_count": 10,
   "metadata": {},
   "outputs": [],
   "source": [
    "som.random_weights_init(X)\n",
    "som.train_random(\n",
    "    data = X,\n",
    "    num_iteration = 100\n",
    ")"
   ]
  },
  {
   "cell_type": "markdown",
   "metadata": {
    "colab_type": "text",
    "id": "YiU27C-ToCnH"
   },
   "source": [
    "##Visualizing the results\n"
   ]
  },
  {
   "cell_type": "code",
   "execution_count": 11,
   "metadata": {},
   "outputs": [],
   "source": [
    "from pylab import bone, pcolor, colorbar, plot, show"
   ]
  },
  {
   "cell_type": "code",
   "execution_count": 3,
   "metadata": {},
   "outputs": [
    {
     "name": "stdout",
     "output_type": "stream",
     "text": [
      "     CustomerID  A1     A2      A3  A4  A5  A6     A7  A8  A9  A10  A11  A12  \\\n",
      "0      15776156   1  22.08  11.460   2   4   4  1.585   0   0    0    1    2   \n",
      "1      15739548   0  22.67   7.000   2   8   4  0.165   0   0    0    0    2   \n",
      "2      15662854   0  29.58   1.750   1   4   4  1.250   0   0    0    1    2   \n",
      "3      15687688   0  21.67  11.500   1   5   3  0.000   1   1   11    1    2   \n",
      "4      15715750   1  20.17   8.170   2   6   4  1.960   1   1   14    0    2   \n",
      "..          ...  ..    ...     ...  ..  ..  ..    ...  ..  ..  ...  ...  ...   \n",
      "685    15808223   1  31.57  10.500   2  14   4  6.500   1   0    0    0    2   \n",
      "686    15769980   1  20.67   0.415   2   8   4  0.125   0   0    0    0    2   \n",
      "687    15675450   0  18.83   9.540   2   6   4  0.085   1   0    0    0    2   \n",
      "688    15776494   0  27.42  14.500   2  14   8  3.085   1   1    1    0    2   \n",
      "689    15592412   1  41.00   0.040   2  10   4  0.040   0   1    1    0    1   \n",
      "\n",
      "     A13   A14  Class  \n",
      "0    100  1213      0  \n",
      "1    160     1      0  \n",
      "2    280     1      0  \n",
      "3      0     1      1  \n",
      "4     60   159      1  \n",
      "..   ...   ...    ...  \n",
      "685    0     1      1  \n",
      "686    0    45      0  \n",
      "687  100     1      1  \n",
      "688  120    12      1  \n",
      "689  560     1      1  \n",
      "\n",
      "[690 rows x 16 columns]\n"
     ]
    }
   ],
   "source": [
    "print(dataset)"
   ]
  },
  {
   "cell_type": "code",
   "execution_count": 12,
   "metadata": {},
   "outputs": [],
   "source": [
    "from pylab import bone, pcolor, colorbar, plot, show"
   ]
  },
  {
   "cell_type": "code",
   "execution_count": 13,
   "metadata": {
    "scrolled": true
   },
   "outputs": [
    {
     "data": {
      "text/plain": [
       "<Figure size 432x288 with 0 Axes>"
      ]
     },
     "metadata": {},
     "output_type": "display_data"
    }
   ],
   "source": [
    "bone()"
   ]
  },
  {
   "cell_type": "code",
   "execution_count": 16,
   "metadata": {
    "scrolled": false
   },
   "outputs": [
    {
     "data": {
      "image/png": "[encoded data removed]",
      "text/plain": [
       "<Figure size 432x288 with 2 Axes>"
      ]
     },
     "metadata": {
      "needs_background": "light"
     },
     "output_type": "display_data"
    }
   ],
   "source": [
    "pcolor(\n",
    "    som.distance_map().T\n",
    ")\n",
    "colorbar()\n",
    "markers = ['o', 's']\n",
    "colors = ['r', 'g']\n",
    "for i, x in enumerate(X):\n",
    "    w = som.winner(x)\n",
    "    plot(\n",
    "        w[0] + 0.5, \n",
    "        w[1] + 0.5,\n",
    "        markers[y[i]],\n",
    "        markeredgecolor = colors[y[i]],\n",
    "        markerfacecolor = 'None',\n",
    "        markersize = 10,\n",
    "        markeredgewidth = 2\n",
    "    )\n",
    "show()"
   ]
  },
  {
   "cell_type": "markdown",
   "metadata": {
    "colab_type": "text",
    "id": "4C-I_jBfoEkP"
   },
   "source": [
    "## Finding the frauds\n"
   ]
  },
  {
   "cell_type": "markdown",
   "metadata": {
    "colab_type": "text",
    "id": "frXqAlpo84b1"
   },
   "source": [
    "##Printing the Fraunch Clients"
   ]
  },
  {
   "cell_type": "code",
   "execution_count": 17,
   "metadata": {},
   "outputs": [],
   "source": [
    "mappings = som.win_map(X)"
   ]
  },
  {
   "cell_type": "code",
   "execution_count": 18,
   "metadata": {},
   "outputs": [
    {
     "name": "stdout",
     "output_type": "stream",
     "text": [
      "[[1.5571081e+07 1.0000000e+00 2.2670000e+01 1.0500000e+01 2.0000000e+00\n",
      "  1.1000000e+01 8.0000000e+00 1.3350000e+00 1.0000000e+00 0.0000000e+00\n",
      "  0.0000000e+00 0.0000000e+00 2.0000000e+00 1.0000000e+02 1.0000000e+00]\n",
      " [1.5636767e+07 1.0000000e+00 2.3420000e+01 1.0000000e+00 2.0000000e+00\n",
      "  8.0000000e+00 4.0000000e+00 5.0000000e-01 0.0000000e+00 0.0000000e+00\n",
      "  0.0000000e+00 1.0000000e+00 1.0000000e+00 2.8000000e+02 1.0000000e+00]\n",
      " [1.5603683e+07 1.0000000e+00 2.0670000e+01 8.3500000e-01 1.0000000e+00\n",
      "  8.0000000e+00 4.0000000e+00 2.0000000e+00 0.0000000e+00 0.0000000e+00\n",
      "  0.0000000e+00 1.0000000e+00 1.0000000e+00 2.4000000e+02 1.0000000e+00]\n",
      " [1.5659100e+07 1.0000000e+00 1.9170000e+01 0.0000000e+00 1.0000000e+00\n",
      "  7.0000000e+00 5.0000000e+00 0.0000000e+00 0.0000000e+00 0.0000000e+00\n",
      "  0.0000000e+00 1.0000000e+00 1.0000000e+00 5.0000000e+02 2.0000000e+00]\n",
      " [1.5648681e+07 1.0000000e+00 2.3000000e+01 7.5000000e-01 2.0000000e+00\n",
      "  7.0000000e+00 4.0000000e+00 5.0000000e-01 0.0000000e+00 0.0000000e+00\n",
      "  0.0000000e+00 1.0000000e+00 1.0000000e+00 3.2000000e+02 1.0000000e+00]\n",
      " [1.5740411e+07 1.0000000e+00 4.0580000e+01 3.2900000e+00 2.0000000e+00\n",
      "  7.0000000e+00 4.0000000e+00 3.5000000e+00 0.0000000e+00 0.0000000e+00\n",
      "  0.0000000e+00 1.0000000e+00 1.0000000e+00 4.0000000e+02 1.0000000e+00]]\n"
     ]
    }
   ],
   "source": [
    "frauds = np.concatenate((mappings[(8,1)], mappings[(6,8)]), axis = 0)\n",
    "frauds = sc.inverse_transform(frauds)\n",
    "print(frauds)"
   ]
  },
  {
   "cell_type": "code",
   "execution_count": null,
   "metadata": {},
   "outputs": [],
   "source": []
  }
 ],
 "metadata": {
  "colab": {
   "collapsed_sections": [],
   "name": "SOM.ipynb",
   "provenance": [],
   "toc_visible": true
  },
  "kernelspec": {
   "display_name": "Python 3 (ipykernel)",
   "language": "python",
   "name": "python3"
  },
  "language_info": {
   "codemirror_mode": {
    "name": "ipython",
    "version": 3
   },
   "file_extension": ".py",
   "mimetype": "text/x-python",
   "name": "python",
   "nbconvert_exporter": "python",
   "pygments_lexer": "ipython3",
   "version": "3.9.7"
  }
 },
 "nbformat": 4,
 "nbformat_minor": 1
}
