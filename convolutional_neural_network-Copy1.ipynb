{
 "cells": [
  {
   "cell_type": "markdown",
   "metadata": {
    "colab_type": "text",
    "id": "3DR-eO17geWu"
   },
   "source": [
    "# Convolutional Neural Network"
   ]
  },
  {
   "cell_type": "markdown",
   "metadata": {
    "colab_type": "text",
    "id": "EMefrVPCg-60"
   },
   "source": [
    "### Importing the libraries"
   ]
  },
  {
   "cell_type": "code",
   "execution_count": 1,
   "metadata": {},
   "outputs": [],
   "source": [
    "import tensorflow as tf\n",
    "# Image Pre Processing\n",
    "from keras.preprocessing.image import ImageDataGenerator"
   ]
  },
  {
   "cell_type": "code",
   "execution_count": 2,
   "metadata": {},
   "outputs": [
    {
     "data": {
      "text/plain": [
       "'2.6.0'"
      ]
     },
     "execution_count": 2,
     "metadata": {},
     "output_type": "execute_result"
    }
   ],
   "source": [
    "tf.__version__"
   ]
  },
  {
   "cell_type": "markdown",
   "metadata": {
    "colab_type": "text",
    "id": "oxQxCBWyoGPE"
   },
   "source": [
    "## Part 1 - Data Preprocessing"
   ]
  },
  {
   "cell_type": "markdown",
   "metadata": {
    "colab_type": "text",
    "id": "MvE-heJNo3GG"
   },
   "source": [
    "### Preprocessing the Training set"
   ]
  },
  {
   "cell_type": "code",
   "execution_count": 3,
   "metadata": {},
   "outputs": [
    {
     "name": "stdout",
     "output_type": "stream",
     "text": [
      "Found 8000 images belonging to 2 classes.\n"
     ]
    }
   ],
   "source": [
    "# Apply geometric trasnformations - image augmentation\n",
    "# Transform the images so that our model doesn't overlearn\n",
    "train_datagen = ImageDataGenerator(\n",
    "    # Apply feature scalling in each pixel like normalization\n",
    "    # It's compulsory\n",
    "    rescale=1./255,\n",
    "    shear_range=0.2,\n",
    "    zoom_range=0.2,\n",
    "    horizontal_flip=True\n",
    ")\n",
    "\n",
    "# Loading train images\n",
    "training_set = train_datagen.flow_from_directory(\n",
    "    'dataset/training_set', # directory\n",
    "    # target_size=(150, 150),\n",
    "    target_size=(64, 64), # Smaller so don't take too long\n",
    "    batch_size=32, # default 32\n",
    "    class_mode='binary'\n",
    ")"
   ]
  },
  {
   "cell_type": "markdown",
   "metadata": {
    "colab_type": "text",
    "id": "mrCMmGw9pHys"
   },
   "source": [
    "### Preprocessing the Test set"
   ]
  },
  {
   "cell_type": "code",
   "execution_count": 4,
   "metadata": {},
   "outputs": [
    {
     "name": "stdout",
     "output_type": "stream",
     "text": [
      "Found 2000 images belonging to 2 classes.\n"
     ]
    }
   ],
   "source": [
    "# We keep the images like if was the original ones\n",
    "# We just use the recal  to normalize it\n",
    "# and to not overlearn it\n",
    "test_datagen = ImageDataGenerator(rescale=1./255)\n",
    "\n",
    "# Loading test images\n",
    "test_set = test_datagen.flow_from_directory(\n",
    "    'dataset/test_set',\n",
    "    target_size=(64, 64),\n",
    "    batch_size=32,\n",
    "    class_mode='binary'\n",
    ")"
   ]
  },
  {
   "cell_type": "markdown",
   "metadata": {
    "colab_type": "text",
    "id": "af8O4l90gk7B"
   },
   "source": [
    "## Part 2 - Building the CNN"
   ]
  },
  {
   "cell_type": "markdown",
   "metadata": {
    "colab_type": "text",
    "id": "ces1gXY2lmoX"
   },
   "source": [
    "### Initialising the CNN"
   ]
  },
  {
   "cell_type": "code",
   "execution_count": 5,
   "metadata": {},
   "outputs": [
    {
     "name": "stderr",
     "output_type": "stream",
     "text": [
      "2021-12-23 20:22:45.024234: I tensorflow/core/platform/cpu_feature_guard.cc:142] This TensorFlow binary is optimized with oneAPI Deep Neural Network Library (oneDNN) to use the following CPU instructions in performance-critical operations:  AVX2 FMA\n",
      "To enable them in other operations, rebuild TensorFlow with the appropriate compiler flags.\n"
     ]
    }
   ],
   "source": [
    "# Initialize module\n",
    "cnn = tf.keras.models.Sequential()"
   ]
  },
  {
   "cell_type": "markdown",
   "metadata": {
    "colab_type": "text",
    "id": "u5YJj_XMl5LF"
   },
   "source": [
    "### Step 1 - Convolution"
   ]
  },
  {
   "cell_type": "code",
   "execution_count": 6,
   "metadata": {},
   "outputs": [],
   "source": [
    "# Convolutional layer\n",
    "cnn.add(\n",
    "    tf.keras.layers.Conv2D(\n",
    "        filters=32,\n",
    "        kernel_size=3, # Dimensions of the filter map\n",
    "        activation='relu', # Always relu on first layers\n",
    "        input_shape=[64, 64, 3] # 3 for RGB, 1 to black/white\n",
    "    )\n",
    ")"
   ]
  },
  {
   "cell_type": "markdown",
   "metadata": {
    "colab_type": "text",
    "id": "tf87FpvxmNOJ"
   },
   "source": [
    "### Step 2 - Pooling"
   ]
  },
  {
   "cell_type": "code",
   "execution_count": 7,
   "metadata": {},
   "outputs": [],
   "source": [
    "# Pooling layer\n",
    "cnn.add(\n",
    "    tf.keras.layers.MaxPool2D(\n",
    "        pool_size=2, # (2X2) Size of the pooled feature map on the feature map\n",
    "        strides=2 # Shift frame every 2 pixels\n",
    "    )\n",
    ")"
   ]
  },
  {
   "cell_type": "markdown",
   "metadata": {
    "colab_type": "text",
    "id": "xaTOgD8rm4mU"
   },
   "source": [
    "### Adding a second convolutional layer"
   ]
  },
  {
   "cell_type": "code",
   "execution_count": 8,
   "metadata": {},
   "outputs": [],
   "source": [
    "# Convolutional layer\n",
    "cnn.add(\n",
    "    tf.keras.layers.Conv2D(\n",
    "        filters=32,\n",
    "        kernel_size=3, # Dimensions of the filter map\n",
    "        activation='relu', # Always relu on first layers\n",
    "        # Input shape is only on the first layer\n",
    "    )\n",
    ")\n",
    "\n",
    "# Pooling layer\n",
    "cnn.add(\n",
    "    tf.keras.layers.MaxPool2D(\n",
    "        pool_size=2, # (2X2) Size of the pooled feature map on the feature map\n",
    "        strides=2 # Shift frame every 2 pixels\n",
    "    )\n",
    ")"
   ]
  },
  {
   "cell_type": "markdown",
   "metadata": {
    "colab_type": "text",
    "id": "tmiEuvTunKfk"
   },
   "source": [
    "### Step 3 - Flattening"
   ]
  },
  {
   "cell_type": "code",
   "execution_count": 9,
   "metadata": {},
   "outputs": [],
   "source": [
    "# Add flattening layer\n",
    "cnn.add(\n",
    "    tf.keras.layers.Flatten()\n",
    ")"
   ]
  },
  {
   "cell_type": "markdown",
   "metadata": {
    "colab_type": "text",
    "id": "dAoSECOm203v"
   },
   "source": [
    "### Step 4 - Full Connection"
   ]
  },
  {
   "cell_type": "code",
   "execution_count": 10,
   "metadata": {},
   "outputs": [],
   "source": [
    "# Add Full Connection layer\n",
    "cnn.add(\n",
    "    tf.keras.layers.Dense(\n",
    "        # Number of hidden neurons\n",
    "        units=128, # We need a bigger number because computation is more complex\n",
    "        activation='relu'\n",
    "    )\n",
    ")"
   ]
  },
  {
   "cell_type": "markdown",
   "metadata": {
    "colab_type": "text",
    "id": "yTldFvbX28Na"
   },
   "source": [
    "### Step 5 - Output Layer"
   ]
  },
  {
   "cell_type": "code",
   "execution_count": 11,
   "metadata": {},
   "outputs": [],
   "source": [
    "# Add Output layer\n",
    "cnn.add(\n",
    "    tf.keras.layers.Dense(\n",
    "        # Number of hidden neurons\n",
    "        units=1, # Binary Classification - Cat or Dog\n",
    "        # Otherwise, multiclass classification we have softmax\n",
    "        activation='sigmoid'\n",
    "    )\n",
    ")"
   ]
  },
  {
   "cell_type": "markdown",
   "metadata": {
    "colab_type": "text",
    "id": "D6XkI90snSDl"
   },
   "source": [
    "## Part 3 - Training the CNN"
   ]
  },
  {
   "cell_type": "markdown",
   "metadata": {
    "colab_type": "text",
    "id": "vfrFQACEnc6i"
   },
   "source": [
    "### Compiling the CNN"
   ]
  },
  {
   "cell_type": "code",
   "execution_count": 12,
   "metadata": {},
   "outputs": [],
   "source": [
    "cnn.compile(\n",
    "    optimizer = 'adam',\n",
    "    loss = 'binary_crossentropy',\n",
    "    metrics = ['accuracy']\n",
    ")"
   ]
  },
  {
   "cell_type": "markdown",
   "metadata": {
    "colab_type": "text",
    "id": "ehS-v3MIpX2h"
   },
   "source": [
    "### Training the CNN on the Training set and evaluating it on the Test set"
   ]
  },
  {
   "cell_type": "code",
   "execution_count": 13,
   "metadata": {},
   "outputs": [
    {
     "name": "stderr",
     "output_type": "stream",
     "text": [
      "2021-12-23 20:22:59.737448: I tensorflow/compiler/mlir/mlir_graph_optimization_pass.cc:185] None of the MLIR Optimization Passes are enabled (registered 2)\n"
     ]
    },
    {
     "name": "stdout",
     "output_type": "stream",
     "text": [
      "Epoch 1/25\n",
      "250/250 [==============================] - 55s 216ms/step - loss: 0.6584 - accuracy: 0.5929 - val_loss: 0.5956 - val_accuracy: 0.6865\n",
      "Epoch 2/25\n",
      "250/250 [==============================] - 53s 212ms/step - loss: 0.5824 - accuracy: 0.6949 - val_loss: 0.5949 - val_accuracy: 0.6790\n",
      "Epoch 3/25\n",
      "250/250 [==============================] - 55s 220ms/step - loss: 0.5496 - accuracy: 0.7153 - val_loss: 0.5157 - val_accuracy: 0.7465\n",
      "Epoch 4/25\n",
      "250/250 [==============================] - 53s 212ms/step - loss: 0.5239 - accuracy: 0.7345 - val_loss: 0.5159 - val_accuracy: 0.7375\n",
      "Epoch 5/25\n",
      "250/250 [==============================] - 52s 209ms/step - loss: 0.4969 - accuracy: 0.7611 - val_loss: 0.4936 - val_accuracy: 0.7695\n",
      "Epoch 6/25\n",
      "250/250 [==============================] - 54s 216ms/step - loss: 0.4885 - accuracy: 0.7614 - val_loss: 0.4897 - val_accuracy: 0.7655\n",
      "Epoch 7/25\n",
      "250/250 [==============================] - 52s 207ms/step - loss: 0.4649 - accuracy: 0.7755 - val_loss: 0.4664 - val_accuracy: 0.7730\n",
      "Epoch 8/25\n",
      "250/250 [==============================] - 56s 223ms/step - loss: 0.4493 - accuracy: 0.7878 - val_loss: 0.4744 - val_accuracy: 0.7835\n",
      "Epoch 9/25\n",
      "250/250 [==============================] - 52s 210ms/step - loss: 0.4257 - accuracy: 0.8011 - val_loss: 0.4544 - val_accuracy: 0.7875\n",
      "Epoch 10/25\n",
      "250/250 [==============================] - 52s 208ms/step - loss: 0.4208 - accuracy: 0.8004 - val_loss: 0.4516 - val_accuracy: 0.7945\n",
      "Epoch 11/25\n",
      "250/250 [==============================] - 51s 203ms/step - loss: 0.4059 - accuracy: 0.8089 - val_loss: 0.4837 - val_accuracy: 0.7695\n",
      "Epoch 12/25\n",
      "250/250 [==============================] - 48s 192ms/step - loss: 0.3957 - accuracy: 0.8165 - val_loss: 0.4373 - val_accuracy: 0.8080\n",
      "Epoch 13/25\n",
      "250/250 [==============================] - 44s 174ms/step - loss: 0.3895 - accuracy: 0.8241 - val_loss: 0.4471 - val_accuracy: 0.7965\n",
      "Epoch 14/25\n",
      "250/250 [==============================] - 43s 172ms/step - loss: 0.3688 - accuracy: 0.8322 - val_loss: 0.4327 - val_accuracy: 0.8125\n",
      "Epoch 15/25\n",
      "250/250 [==============================] - 45s 182ms/step - loss: 0.3700 - accuracy: 0.8346 - val_loss: 0.4374 - val_accuracy: 0.8030\n",
      "Epoch 16/25\n",
      "250/250 [==============================] - 55s 218ms/step - loss: 0.3526 - accuracy: 0.8415 - val_loss: 0.4533 - val_accuracy: 0.8070\n",
      "Epoch 17/25\n",
      "250/250 [==============================] - 54s 216ms/step - loss: 0.3359 - accuracy: 0.8511 - val_loss: 0.4377 - val_accuracy: 0.8100\n",
      "Epoch 18/25\n",
      "250/250 [==============================] - 48s 193ms/step - loss: 0.3368 - accuracy: 0.8530 - val_loss: 0.4377 - val_accuracy: 0.8095\n",
      "Epoch 19/25\n",
      "250/250 [==============================] - 46s 185ms/step - loss: 0.3157 - accuracy: 0.8609 - val_loss: 0.4572 - val_accuracy: 0.8010\n",
      "Epoch 20/25\n",
      "250/250 [==============================] - 57s 229ms/step - loss: 0.3109 - accuracy: 0.8635 - val_loss: 0.4578 - val_accuracy: 0.8005\n",
      "Epoch 21/25\n",
      "250/250 [==============================] - 64s 254ms/step - loss: 0.2903 - accuracy: 0.8731 - val_loss: 0.4279 - val_accuracy: 0.8195\n",
      "Epoch 22/25\n",
      "250/250 [==============================] - 50s 201ms/step - loss: 0.2921 - accuracy: 0.8720 - val_loss: 0.4730 - val_accuracy: 0.8015\n",
      "Epoch 23/25\n",
      "250/250 [==============================] - 48s 191ms/step - loss: 0.2815 - accuracy: 0.8776 - val_loss: 0.4550 - val_accuracy: 0.8105\n",
      "Epoch 24/25\n",
      "250/250 [==============================] - 48s 191ms/step - loss: 0.2623 - accuracy: 0.8864 - val_loss: 0.4879 - val_accuracy: 0.7955\n",
      "Epoch 25/25\n",
      "250/250 [==============================] - 48s 192ms/step - loss: 0.2631 - accuracy: 0.8901 - val_loss: 0.5020 - val_accuracy: 0.8020\n"
     ]
    },
    {
     "data": {
      "text/plain": [
       "<keras.callbacks.History at 0x12cfb82b0>"
      ]
     },
     "execution_count": 13,
     "metadata": {},
     "output_type": "execute_result"
    }
   ],
   "source": [
    "cnn.fit(\n",
    "    x = training_set,\n",
    "    validation_data = test_set, # Test set\n",
    "    epochs = 25 # Number of epochs\n",
    ")"
   ]
  },
  {
   "cell_type": "markdown",
   "metadata": {
    "colab_type": "text",
    "id": "U3PZasO0006Z"
   },
   "source": [
    "## Part 4 - Making a single prediction"
   ]
  },
  {
   "cell_type": "code",
   "execution_count": 22,
   "metadata": {},
   "outputs": [],
   "source": [
    "import numpy as np\n",
    "from keras.preprocessing import image\n",
    "\n",
    "# Load single image to deploy to our production model in\n",
    "# format of PIL\n",
    "prod_image = image.load_img(\n",
    "    'dataset/single_prediction/cat_or_dog_3.jpeg',\n",
    "    # Compulsory - same size as the training\n",
    "    target_size = (64, 64)\n",
    ")\n",
    "\n",
    "# Convert the PIL image format into an array\n",
    "prod_image = image.img_to_array(\n",
    "    prod_image\n",
    ") # converts it to numpy array\n",
    "\n",
    "# Predict as to be called in the same format of the training\n",
    "# we need to create batches of images\n",
    "prod_image = np.expand_dims(\n",
    "    prod_image,\n",
    "    axis = 0 # Dimension of the batch on first dimension\n",
    ")\n",
    "\n",
    "# Prediction, normalizing the result\n",
    "result = cnn.predict(\n",
    "    prod_image/255.0\n",
    ")\n",
    "\n",
    "# Show what each number is\n",
    "training_set.class_indices\n",
    "\n",
    "# Treat the result output - access the batch and then the single element of the batch\n",
    "if result[0][0] > 0.5:\n",
    "    prediction = 'dog'\n",
    "else:\n",
    "    prediction = 'cat'"
   ]
  },
  {
   "cell_type": "code",
   "execution_count": 23,
   "metadata": {},
   "outputs": [
    {
     "name": "stdout",
     "output_type": "stream",
     "text": [
      "dog\n"
     ]
    }
   ],
   "source": [
    "print(prediction)"
   ]
  },
  {
   "cell_type": "code",
   "execution_count": null,
   "metadata": {},
   "outputs": [],
   "source": []
  }
 ],
 "metadata": {
  "colab": {
   "collapsed_sections": [],
   "name": "convolutional_neural_network.ipynb",
   "provenance": [],
   "toc_visible": true
  },
  "kernelspec": {
   "display_name": "Python 3 (ipykernel)",
   "language": "python",
   "name": "python3"
  },
  "language_info": {
   "codemirror_mode": {
    "name": "ipython",
    "version": 3
   },
   "file_extension": ".py",
   "mimetype": "text/x-python",
   "name": "python",
   "nbconvert_exporter": "python",
   "pygments_lexer": "ipython3",
   "version": "3.9.9"
  }
 },
 "nbformat": 4,
 "nbformat_minor": 1
}
